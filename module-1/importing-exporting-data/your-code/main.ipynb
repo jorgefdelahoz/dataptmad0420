{
 "cells": [
  {
   "cell_type": "markdown",
   "metadata": {},
   "source": [
    "# Before your start:\n",
    "- Read the README.md file\n",
    "- Comment as much as you can and use the resources in the README.md file\n",
    "- Happy learning!"
   ]
  },
  {
   "cell_type": "markdown",
   "metadata": {},
   "source": [
    "# Challenge 1 - Accessing our database\n",
    "Create a connection to access the sakila database with the ip, user and password provided in class. Take a look at the data. Do some joins in order to have more elaborated tables in a dataframe (you can try first the query in the DBMS and then use it in your notebook).\n"
   ]
  },
  {
   "cell_type": "code",
   "execution_count": 1,
   "metadata": {},
   "outputs": [],
   "source": [
    "# your code here\n",
    "%load_ext sql\n",
    "%config SqlMagic.autocommit = False\n",
    "\n",
    "%sql sqlite:///juliarochflores.db"
   ]
  },
  {
   "cell_type": "code",
   "execution_count": 2,
   "metadata": {},
   "outputs": [
    {
     "name": "stdout",
     "output_type": "stream",
     "text": [
      " * sqlite:///juliarochflores.db\n",
      "Done.\n",
      "Returning data to local variable tables\n"
     ]
    }
   ],
   "source": [
    "%%sql tables <<\n",
    "\n",
    "SELECT name\n",
    "FROM sqlite_master \n",
    "WHERE type ='table' AND name NOT LIKE 'sqlite_%';"
   ]
  },
  {
   "cell_type": "code",
   "execution_count": 3,
   "metadata": {},
   "outputs": [
    {
     "data": {
      "text/html": [
       "<table>\n",
       "    <tr>\n",
       "        <th>name</th>\n",
       "    </tr>\n",
       "    <tr>\n",
       "        <td>rank_info</td>\n",
       "    </tr>\n",
       "    <tr>\n",
       "        <td>personal_info</td>\n",
       "    </tr>\n",
       "    <tr>\n",
       "        <td>business_info</td>\n",
       "    </tr>\n",
       "</table>"
      ],
      "text/plain": [
       "[('rank_info',), ('personal_info',), ('business_info',)]"
      ]
     },
     "execution_count": 3,
     "metadata": {},
     "output_type": "execute_result"
    }
   ],
   "source": [
    "tables"
   ]
  },
  {
   "cell_type": "code",
   "execution_count": 4,
   "metadata": {},
   "outputs": [],
   "source": [
    "import sqlalchemy\n"
   ]
  },
  {
   "cell_type": "code",
   "execution_count": 5,
   "metadata": {},
   "outputs": [
    {
     "name": "stdout",
     "output_type": "stream",
     "text": [
      " * sqlite:///juliarochflores.db\n",
      "Done.\n",
      "Returning data to local variable joins_table\n"
     ]
    }
   ],
   "source": [
    "%%sql joins_table <<\n",
    "\n",
    "select * from personal_info pi\n",
    "inner join rank_info ri on pi.id = ri.id\n",
    "inner join business_info bi on pi.id = bi.id\n",
    "limit 10"
   ]
  },
  {
   "cell_type": "code",
   "execution_count": 6,
   "metadata": {},
   "outputs": [
    {
     "data": {
      "text/html": [
       "<table>\n",
       "    <tr>\n",
       "        <th>id</th>\n",
       "        <th>lastName</th>\n",
       "        <th>age</th>\n",
       "        <th>Unnamed: 0</th>\n",
       "        <th>gender</th>\n",
       "        <th>country</th>\n",
       "        <th>image</th>\n",
       "        <th>id_1</th>\n",
       "        <th>name</th>\n",
       "        <th>position</th>\n",
       "        <th>Unnamed: 0_1</th>\n",
       "        <th>id_2</th>\n",
       "        <th>Unnamed: 0_2</th>\n",
       "        <th>Source</th>\n",
       "        <th>worth</th>\n",
       "        <th>worthChange</th>\n",
       "        <th>realTimeWorth</th>\n",
       "        <th>realTimePosition</th>\n",
       "    </tr>\n",
       "    <tr>\n",
       "        <td>8760</td>\n",
       "        <td>BEZOS</td>\n",
       "        <td>54 years old</td>\n",
       "        <td>52</td>\n",
       "        <td>None</td>\n",
       "        <td>United States</td>\n",
       "        <td>https://specials-images.forbesimg.com/imageserve/5a8d920d31358e4955adf197/416x416.jpg?background=000000&amp;cropX1=755&amp;cropX2=2357&amp;cropY1=494&amp;cropY2=2097</td>\n",
       "        <td>8760</td>\n",
       "        <td>jefF BEZOs</td>\n",
       "        <td>1.0</td>\n",
       "        <td>52</td>\n",
       "        <td>8760</td>\n",
       "        <td>52</td>\n",
       "        <td>Technology  ==&gt; Amazon</td>\n",
       "        <td>112.0 BUSD</td>\n",
       "        <td>0.0 millions USD</td>\n",
       "        <td>None</td>\n",
       "        <td>1</td>\n",
       "    </tr>\n",
       "    <tr>\n",
       "        <td>7500</td>\n",
       "        <td>GATES</td>\n",
       "        <td>62 years old</td>\n",
       "        <td>53</td>\n",
       "        <td>Male</td>\n",
       "        <td>None</td>\n",
       "        <td>https://specials-images.forbesimg.com/imageserve/5a942b7b31358e79a28a452b/416x416.jpg?background=000000&amp;cropX1=285&amp;cropX2=3498&amp;cropY1=146&amp;cropY2=3360</td>\n",
       "        <td>7500</td>\n",
       "        <td>bILL GATES</td>\n",
       "        <td>2.0</td>\n",
       "        <td>53</td>\n",
       "        <td>7500</td>\n",
       "        <td>53</td>\n",
       "        <td>Technology  ==&gt; Microsoft</td>\n",
       "        <td>90.0 BUSD</td>\n",
       "        <td>-0.001 millions USD</td>\n",
       "        <td>None</td>\n",
       "        <td>2</td>\n",
       "    </tr>\n",
       "    <tr>\n",
       "        <td>5751</td>\n",
       "        <td>bufFETT</td>\n",
       "        <td>87 years old</td>\n",
       "        <td>54</td>\n",
       "        <td>M</td>\n",
       "        <td>None</td>\n",
       "        <td>https://specials-images.forbesimg.com/imageserve/5a8d9b3a31358e4955adf300/416x416.jpg?background=000000&amp;cropX1=378&amp;cropX2=2650&amp;cropY1=52&amp;cropY2=2322</td>\n",
       "        <td>5751</td>\n",
       "        <td>WARREN BUFFEtt</td>\n",
       "        <td>3.0</td>\n",
       "        <td>54</td>\n",
       "        <td>5751</td>\n",
       "        <td>54</td>\n",
       "        <td>Finance and Investments  ==&gt; Berkshire Hathaway</td>\n",
       "        <td>84.0 BUSD</td>\n",
       "        <td>-0.002 millions USD</td>\n",
       "        <td>None</td>\n",
       "        <td>3</td>\n",
       "    </tr>\n",
       "    <tr>\n",
       "        <td>8365</td>\n",
       "        <td>arNAULt</td>\n",
       "        <td>69 years old</td>\n",
       "        <td>55</td>\n",
       "        <td>None</td>\n",
       "        <td>France</td>\n",
       "        <td>https://specials-images.forbesimg.com/imageserve/5a7de808a7ea431690131adf/416x416.jpg?background=000000&amp;cropX1=125&amp;cropX2=2852&amp;cropY1=11&amp;cropY2=2736</td>\n",
       "        <td>8365</td>\n",
       "        <td>bernARD ARNAULT</td>\n",
       "        <td>4.0</td>\n",
       "        <td>55</td>\n",
       "        <td>8365</td>\n",
       "        <td>55</td>\n",
       "        <td>Fashion &amp; Retail  ==&gt; LVMH</td>\n",
       "        <td>72.0 BUSD</td>\n",
       "        <td>0.0 millions USD</td>\n",
       "        <td>None</td>\n",
       "        <td>4</td>\n",
       "    </tr>\n",
       "    <tr>\n",
       "        <td>5328</td>\n",
       "        <td>zUCKERBERg</td>\n",
       "        <td>1985</td>\n",
       "        <td>56</td>\n",
       "        <td>None</td>\n",
       "        <td>United States</td>\n",
       "        <td>https://specials-images.forbesimg.com/imageserve/59d5062131358e542c034eb7/416x416.jpg?background=000000&amp;cropX1=419&amp;cropX2=1409&amp;cropY1=53&amp;cropY2=1044</td>\n",
       "        <td>5328</td>\n",
       "        <td>maRK ZUCKERBERG</td>\n",
       "        <td>5.0</td>\n",
       "        <td>56</td>\n",
       "        <td>5328</td>\n",
       "        <td>56</td>\n",
       "        <td>Technology  ==&gt; Facebook</td>\n",
       "        <td>71.0 BUSD</td>\n",
       "        <td>0.0 millions USD</td>\n",
       "        <td>None</td>\n",
       "        <td>5</td>\n",
       "    </tr>\n",
       "    <tr>\n",
       "        <td>4945</td>\n",
       "        <td>ortEGa</td>\n",
       "        <td>82 years old</td>\n",
       "        <td>57</td>\n",
       "        <td>M</td>\n",
       "        <td>Spain</td>\n",
       "        <td>https://specials-images.forbesimg.com/imageserve/5a810ce6a7ea431690133fe6/416x416.jpg?background=000000&amp;cropX1=250&amp;cropX2=2266&amp;cropY1=4&amp;cropY2=2019</td>\n",
       "        <td>4945</td>\n",
       "        <td>amaNCIO ORTega</td>\n",
       "        <td>6.0</td>\n",
       "        <td>57</td>\n",
       "        <td>4945</td>\n",
       "        <td>57</td>\n",
       "        <td>Fashion &amp; Retail  ==&gt; Zara</td>\n",
       "        <td>70.0 BUSD</td>\n",
       "        <td>0.0 millions USD</td>\n",
       "        <td>None</td>\n",
       "        <td>6</td>\n",
       "    </tr>\n",
       "    <tr>\n",
       "        <td>3712</td>\n",
       "        <td>slIM HELU</td>\n",
       "        <td>78 years old</td>\n",
       "        <td>58</td>\n",
       "        <td>Male</td>\n",
       "        <td>None</td>\n",
       "        <td>https://specials-images.forbesimg.com/imageserve/5a7fcad931358e4955ad21fc/416x416.jpg?background=000000&amp;cropX1=247&amp;cropX2=2010&amp;cropY1=226&amp;cropY2=1990</td>\n",
       "        <td>3712</td>\n",
       "        <td>carlOS SLIM HElu</td>\n",
       "        <td>7.0</td>\n",
       "        <td>58</td>\n",
       "        <td>3712</td>\n",
       "        <td>58</td>\n",
       "        <td>Telecom  ==&gt; telecom</td>\n",
       "        <td>67.1 BUSD</td>\n",
       "        <td>0.001 millions USD</td>\n",
       "        <td>None</td>\n",
       "        <td>7</td>\n",
       "    </tr>\n",
       "    <tr>\n",
       "        <td>5137</td>\n",
       "        <td>KOCH</td>\n",
       "        <td>82 years old</td>\n",
       "        <td>59</td>\n",
       "        <td>Male</td>\n",
       "        <td>None</td>\n",
       "        <td>https://specials-images.forbesimg.com/imageserve/5638b4b5e4b0ffa7afe69a7f/416x416.jpg?background=000000&amp;cropX1=0&amp;cropX2=744&amp;cropY1=53&amp;cropY2=797</td>\n",
       "        <td>5137</td>\n",
       "        <td>chARLES Koch</td>\n",
       "        <td>8.0</td>\n",
       "        <td>59</td>\n",
       "        <td>5137</td>\n",
       "        <td>59</td>\n",
       "        <td>Diversified  ==&gt; Koch Industries</td>\n",
       "        <td>60.0 BUSD</td>\n",
       "        <td>0.0 millions USD</td>\n",
       "        <td>None</td>\n",
       "        <td>12</td>\n",
       "    </tr>\n",
       "    <tr>\n",
       "        <td>1485</td>\n",
       "        <td>kOCH</td>\n",
       "        <td>78 years old</td>\n",
       "        <td>60</td>\n",
       "        <td>Male</td>\n",
       "        <td>None</td>\n",
       "        <td>https://specials-images.forbesimg.com/imageserve/5a8d901531358e4955adf139/416x416.jpg?background=000000&amp;cropX1=0&amp;cropX2=2400&amp;cropY1=81&amp;cropY2=2481</td>\n",
       "        <td>1485</td>\n",
       "        <td>david KOCH</td>\n",
       "        <td>9.0</td>\n",
       "        <td>60</td>\n",
       "        <td>1485</td>\n",
       "        <td>60</td>\n",
       "        <td>Diversified  ==&gt; Koch Industries</td>\n",
       "        <td>60.0 BUSD</td>\n",
       "        <td>0.0 millions USD</td>\n",
       "        <td>None</td>\n",
       "        <td>13</td>\n",
       "    </tr>\n",
       "    <tr>\n",
       "        <td>1108</td>\n",
       "        <td>eLLISOn</td>\n",
       "        <td>73 years old</td>\n",
       "        <td>61</td>\n",
       "        <td>None</td>\n",
       "        <td>United States</td>\n",
       "        <td>https://specials-images.forbesimg.com/imageserve/5a8d9263a7ea431690140251/416x416.jpg?background=000000&amp;cropX1=0&amp;cropX2=2000&amp;cropY1=197&amp;cropY2=2198</td>\n",
       "        <td>1108</td>\n",
       "        <td>larry ELLISON</td>\n",
       "        <td>10.0</td>\n",
       "        <td>61</td>\n",
       "        <td>1108</td>\n",
       "        <td>61</td>\n",
       "        <td>Technology  ==&gt; software</td>\n",
       "        <td>58.5 BUSD</td>\n",
       "        <td>-0.001 millions USD</td>\n",
       "        <td>None</td>\n",
       "        <td>8</td>\n",
       "    </tr>\n",
       "</table>"
      ],
      "text/plain": [
       "[(8760, 'BEZOS', '54 years old', 52, 'None', 'United States', 'https://specials-images.forbesimg.com/imageserve/5a8d920d31358e4955adf197/416x416.jpg?background=000000&cropX1=755&cropX2=2357&cropY1=494&cropY2=2097', 8760, 'jefF BEZOs', 1.0, 52, 8760, 52, 'Technology  ==> Amazon', '112.0 BUSD', '0.0 millions USD', None, 1),\n",
       " (7500, 'GATES', '62 years old', 53, 'Male', 'None', 'https://specials-images.forbesimg.com/imageserve/5a942b7b31358e79a28a452b/416x416.jpg?background=000000&cropX1=285&cropX2=3498&cropY1=146&cropY2=3360', 7500, 'bILL GATES', 2.0, 53, 7500, 53, 'Technology  ==> Microsoft', '90.0 BUSD', '-0.001 millions USD', None, 2),\n",
       " (5751, 'bufFETT', '87 years old', 54, 'M', 'None', 'https://specials-images.forbesimg.com/imageserve/5a8d9b3a31358e4955adf300/416x416.jpg?background=000000&cropX1=378&cropX2=2650&cropY1=52&cropY2=2322', 5751, 'WARREN BUFFEtt', 3.0, 54, 5751, 54, 'Finance and Investments  ==> Berkshire Hathaway', '84.0 BUSD', '-0.002 millions USD', None, 3),\n",
       " (8365, 'arNAULt', '69 years old', 55, 'None', 'France', 'https://specials-images.forbesimg.com/imageserve/5a7de808a7ea431690131adf/416x416.jpg?background=000000&cropX1=125&cropX2=2852&cropY1=11&cropY2=2736', 8365, 'bernARD ARNAULT', 4.0, 55, 8365, 55, 'Fashion & Retail  ==> LVMH', '72.0 BUSD', '0.0 millions USD', None, 4),\n",
       " (5328, 'zUCKERBERg', '1985', 56, 'None', 'United States', 'https://specials-images.forbesimg.com/imageserve/59d5062131358e542c034eb7/416x416.jpg?background=000000&cropX1=419&cropX2=1409&cropY1=53&cropY2=1044', 5328, 'maRK ZUCKERBERG', 5.0, 56, 5328, 56, 'Technology  ==> Facebook', '71.0 BUSD', '0.0 millions USD', None, 5),\n",
       " (4945, 'ortEGa', '82 years old', 57, 'M', 'Spain', 'https://specials-images.forbesimg.com/imageserve/5a810ce6a7ea431690133fe6/416x416.jpg?background=000000&cropX1=250&cropX2=2266&cropY1=4&cropY2=2019', 4945, 'amaNCIO ORTega', 6.0, 57, 4945, 57, 'Fashion & Retail  ==> Zara', '70.0 BUSD', '0.0 millions USD', None, 6),\n",
       " (3712, 'slIM HELU', '78 years old', 58, 'Male', 'None', 'https://specials-images.forbesimg.com/imageserve/5a7fcad931358e4955ad21fc/416x416.jpg?background=000000&cropX1=247&cropX2=2010&cropY1=226&cropY2=1990', 3712, 'carlOS SLIM HElu', 7.0, 58, 3712, 58, 'Telecom  ==> telecom', '67.1 BUSD', '0.001 millions USD', None, 7),\n",
       " (5137, 'KOCH', '82 years old', 59, 'Male', 'None', 'https://specials-images.forbesimg.com/imageserve/5638b4b5e4b0ffa7afe69a7f/416x416.jpg?background=000000&cropX1=0&cropX2=744&cropY1=53&cropY2=797', 5137, 'chARLES Koch', 8.0, 59, 5137, 59, 'Diversified  ==> Koch Industries', '60.0 BUSD', '0.0 millions USD', None, 12),\n",
       " (1485, 'kOCH', '78 years old', 60, 'Male', 'None', 'https://specials-images.forbesimg.com/imageserve/5a8d901531358e4955adf139/416x416.jpg?background=000000&cropX1=0&cropX2=2400&cropY1=81&cropY2=2481', 1485, 'david KOCH', 9.0, 60, 1485, 60, 'Diversified  ==> Koch Industries', '60.0 BUSD', '0.0 millions USD', None, 13),\n",
       " (1108, 'eLLISOn', '73 years old', 61, 'None', 'United States', 'https://specials-images.forbesimg.com/imageserve/5a8d9263a7ea431690140251/416x416.jpg?background=000000&cropX1=0&cropX2=2000&cropY1=197&cropY2=2198', 1108, 'larry ELLISON', 10.0, 61, 1108, 61, 'Technology  ==> software', '58.5 BUSD', '-0.001 millions USD', None, 8)]"
      ]
     },
     "execution_count": 6,
     "metadata": {},
     "output_type": "execute_result"
    }
   ],
   "source": [
    "joins_table"
   ]
  },
  {
   "cell_type": "markdown",
   "metadata": {},
   "source": [
    "# Challenge 2 - Working with JSON files\n",
    "\n",
    "Import the pandas library."
   ]
  },
  {
   "cell_type": "code",
   "execution_count": 1,
   "metadata": {},
   "outputs": [],
   "source": [
    "# your code here\n",
    "import pandas as pd"
   ]
  },
  {
   "cell_type": "markdown",
   "metadata": {},
   "source": [
    "In the next cell, load the data in `nasa.json` in the `data` folder and load it into a pandas dataframe. Name the dataframe `nasa`."
   ]
  },
  {
   "cell_type": "code",
   "execution_count": 17,
   "metadata": {},
   "outputs": [],
   "source": [
    "# your code here\n",
    "# File_path = `find / -path \"*/data/nasa.json\" -exec ls {} \\; 2> /dev/nul`\n",
    "# nasa = pd.read_json(File_path, orient='records')\n",
    "nasa = pd.read_json('~/Ironhack/Ironlabs/dataptmad0420/module-1/importing-exporting-data/data/nasa.json', orient='records')"
   ]
  },
  {
   "cell_type": "markdown",
   "metadata": {},
   "source": [
    "Now that we have loaded the data, let's examine it using the `head()` function."
   ]
  },
  {
   "cell_type": "code",
   "execution_count": 18,
   "metadata": {},
   "outputs": [
    {
     "data": {
      "text/html": [
       "<div>\n",
       "<style scoped>\n",
       "    .dataframe tbody tr th:only-of-type {\n",
       "        vertical-align: middle;\n",
       "    }\n",
       "\n",
       "    .dataframe tbody tr th {\n",
       "        vertical-align: top;\n",
       "    }\n",
       "\n",
       "    .dataframe thead th {\n",
       "        text-align: right;\n",
       "    }\n",
       "</style>\n",
       "<table border=\"1\" class=\"dataframe\">\n",
       "  <thead>\n",
       "    <tr style=\"text-align: right;\">\n",
       "      <th></th>\n",
       "      <th>:@computed_region_cbhk_fwbd</th>\n",
       "      <th>:@computed_region_nnqa_25f4</th>\n",
       "      <th>fall</th>\n",
       "      <th>geolocation</th>\n",
       "      <th>id</th>\n",
       "      <th>mass</th>\n",
       "      <th>name</th>\n",
       "      <th>nametype</th>\n",
       "      <th>recclass</th>\n",
       "      <th>reclat</th>\n",
       "      <th>reclong</th>\n",
       "      <th>year</th>\n",
       "    </tr>\n",
       "  </thead>\n",
       "  <tbody>\n",
       "    <tr>\n",
       "      <th>0</th>\n",
       "      <td>NaN</td>\n",
       "      <td>NaN</td>\n",
       "      <td>Fell</td>\n",
       "      <td>{'type': 'Point', 'coordinates': [6.08333, 50....</td>\n",
       "      <td>1</td>\n",
       "      <td>21.0</td>\n",
       "      <td>Aachen</td>\n",
       "      <td>Valid</td>\n",
       "      <td>L5</td>\n",
       "      <td>50.77500</td>\n",
       "      <td>6.08333</td>\n",
       "      <td>1880-01-01T00:00:00.000</td>\n",
       "    </tr>\n",
       "    <tr>\n",
       "      <th>1</th>\n",
       "      <td>NaN</td>\n",
       "      <td>NaN</td>\n",
       "      <td>Fell</td>\n",
       "      <td>{'type': 'Point', 'coordinates': [10.23333, 56...</td>\n",
       "      <td>2</td>\n",
       "      <td>720.0</td>\n",
       "      <td>Aarhus</td>\n",
       "      <td>Valid</td>\n",
       "      <td>H6</td>\n",
       "      <td>56.18333</td>\n",
       "      <td>10.23333</td>\n",
       "      <td>1951-01-01T00:00:00.000</td>\n",
       "    </tr>\n",
       "    <tr>\n",
       "      <th>2</th>\n",
       "      <td>NaN</td>\n",
       "      <td>NaN</td>\n",
       "      <td>Fell</td>\n",
       "      <td>{'type': 'Point', 'coordinates': [-113, 54.216...</td>\n",
       "      <td>6</td>\n",
       "      <td>107000.0</td>\n",
       "      <td>Abee</td>\n",
       "      <td>Valid</td>\n",
       "      <td>EH4</td>\n",
       "      <td>54.21667</td>\n",
       "      <td>-113.00000</td>\n",
       "      <td>1952-01-01T00:00:00.000</td>\n",
       "    </tr>\n",
       "    <tr>\n",
       "      <th>3</th>\n",
       "      <td>NaN</td>\n",
       "      <td>NaN</td>\n",
       "      <td>Fell</td>\n",
       "      <td>{'type': 'Point', 'coordinates': [-99.9, 16.88...</td>\n",
       "      <td>10</td>\n",
       "      <td>1914.0</td>\n",
       "      <td>Acapulco</td>\n",
       "      <td>Valid</td>\n",
       "      <td>Acapulcoite</td>\n",
       "      <td>16.88333</td>\n",
       "      <td>-99.90000</td>\n",
       "      <td>1976-01-01T00:00:00.000</td>\n",
       "    </tr>\n",
       "    <tr>\n",
       "      <th>4</th>\n",
       "      <td>NaN</td>\n",
       "      <td>NaN</td>\n",
       "      <td>Fell</td>\n",
       "      <td>{'type': 'Point', 'coordinates': [-64.95, -33....</td>\n",
       "      <td>370</td>\n",
       "      <td>780.0</td>\n",
       "      <td>Achiras</td>\n",
       "      <td>Valid</td>\n",
       "      <td>L6</td>\n",
       "      <td>-33.16667</td>\n",
       "      <td>-64.95000</td>\n",
       "      <td>1902-01-01T00:00:00.000</td>\n",
       "    </tr>\n",
       "  </tbody>\n",
       "</table>\n",
       "</div>"
      ],
      "text/plain": [
       "   :@computed_region_cbhk_fwbd  :@computed_region_nnqa_25f4  fall  \\\n",
       "0                          NaN                          NaN  Fell   \n",
       "1                          NaN                          NaN  Fell   \n",
       "2                          NaN                          NaN  Fell   \n",
       "3                          NaN                          NaN  Fell   \n",
       "4                          NaN                          NaN  Fell   \n",
       "\n",
       "                                         geolocation   id      mass      name  \\\n",
       "0  {'type': 'Point', 'coordinates': [6.08333, 50....    1      21.0    Aachen   \n",
       "1  {'type': 'Point', 'coordinates': [10.23333, 56...    2     720.0    Aarhus   \n",
       "2  {'type': 'Point', 'coordinates': [-113, 54.216...    6  107000.0      Abee   \n",
       "3  {'type': 'Point', 'coordinates': [-99.9, 16.88...   10    1914.0  Acapulco   \n",
       "4  {'type': 'Point', 'coordinates': [-64.95, -33....  370     780.0   Achiras   \n",
       "\n",
       "  nametype     recclass    reclat    reclong                     year  \n",
       "0    Valid           L5  50.77500    6.08333  1880-01-01T00:00:00.000  \n",
       "1    Valid           H6  56.18333   10.23333  1951-01-01T00:00:00.000  \n",
       "2    Valid          EH4  54.21667 -113.00000  1952-01-01T00:00:00.000  \n",
       "3    Valid  Acapulcoite  16.88333  -99.90000  1976-01-01T00:00:00.000  \n",
       "4    Valid           L6 -33.16667  -64.95000  1902-01-01T00:00:00.000  "
      ]
     },
     "execution_count": 18,
     "metadata": {},
     "output_type": "execute_result"
    }
   ],
   "source": [
    "# your code here\n",
    "nasa.head()"
   ]
  },
  {
   "cell_type": "markdown",
   "metadata": {},
   "source": [
    "#### The `value_counts()` function is commonly used in pandas to find the frequency of every value in a column.\n",
    "\n",
    "In the cell below, use the `value_counts()` function to determine the frequency of all types of asteroid landings by applying the function to the `fall` column."
   ]
  },
  {
   "cell_type": "code",
   "execution_count": 34,
   "metadata": {},
   "outputs": [
    {
     "data": {
      "text/plain": [
       "Fell     996\n",
       "Found      4\n",
       "Name: fall, dtype: int64"
      ]
     },
     "execution_count": 34,
     "metadata": {},
     "output_type": "execute_result"
    }
   ],
   "source": [
    "# your code here\n",
    "nasa['fall'].value_counts()"
   ]
  },
  {
   "cell_type": "markdown",
   "metadata": {},
   "source": [
    "Finally, let's save the dataframe as a json file again. Save the dataframe using the `orient=records` argument and name the file `nasa-output.json`. Remember to save the file inside the `data` folder."
   ]
  },
  {
   "cell_type": "code",
   "execution_count": 41,
   "metadata": {},
   "outputs": [],
   "source": [
    "# your code here\n",
    "import os\n",
    "\n",
    "output_folder = '~/Ironhack/Ironlabs/dataptmad0420/module-1/importing-exporting-data/data'\n",
    "\n",
    "nasa.to_json(f'{output_folder}/nasa-output.json', orient='records')\n",
    "\n",
    "# nasa.to_json(f'~/Ironhack/Ironlabs/dataptmad0420/module-1/importing-exporting-data/data/nasa-output.json', orient='records')"
   ]
  },
  {
   "cell_type": "markdown",
   "metadata": {},
   "source": [
    "# Challenge 2 - Working with CSV and Other Separated Files\n",
    "\n",
    "CSV files are more commonly used as dataframes. In the cell below, load the file from the URL provided using the `read_csv()` function in pandas. Starting version 0.19 of pandas, you can load a CSV file into a dataframe directly from a URL without having to load the file first and then transform it. The dataset we will be using contains information about NASA shuttles.\n",
    "\n",
    "In the cell below, we define the column names and the URL of the data. Following this cell, read the tst file to a variable called `shuttle`. Since the file does not contain the column names, you must add them yourself using the column names declared in `cols` using the `names` argument. Additionally, a tst file is space separated, make sure you pass ` sep=' '` to the function."
   ]
  },
  {
   "cell_type": "code",
   "execution_count": 1,
   "metadata": {},
   "outputs": [],
   "source": [
    "cols = ['time', 'rad_flow', 'fpv_close', 'fpv_open', 'high', 'bypass', 'bpv_close', 'bpv_open', 'class']\n",
    "tst_url = 'https://archive.ics.uci.edu/ml/machine-learning-databases/statlog/shuttle/shuttle.tst'"
   ]
  },
  {
   "cell_type": "code",
   "execution_count": 8,
   "metadata": {},
   "outputs": [],
   "source": [
    "# your code here"
   ]
  },
  {
   "cell_type": "markdown",
   "metadata": {},
   "source": [
    "Let's verify that this worked by looking at the `head()` function."
   ]
  },
  {
   "cell_type": "code",
   "execution_count": 9,
   "metadata": {},
   "outputs": [],
   "source": [
    "# your code here"
   ]
  },
  {
   "cell_type": "markdown",
   "metadata": {},
   "source": [
    "To make life easier for us, let's turn this dataframe into a comma separated file by saving it using the `to_csv()` function. Save `shuttle` into the file `shuttle.csv` and ensure the file is comma separated, that we are not saving the index column and that the file is saved inside the `data` folder."
   ]
  },
  {
   "cell_type": "code",
   "execution_count": 10,
   "metadata": {},
   "outputs": [],
   "source": [
    "# your code here"
   ]
  },
  {
   "cell_type": "markdown",
   "metadata": {},
   "source": [
    "# Challenge 3 - Working with Excel Files\n",
    "\n",
    "We can also use pandas to convert excel spreadsheets to dataframes. Let's use the `read_excel()` function. In this case, `astronauts.xls` is in the `data` folder. Read this file into a variable called `astronaut`. \n",
    "\n",
    "Note: Make sure to install the `xlrd` library if it is not yet installed."
   ]
  },
  {
   "cell_type": "code",
   "execution_count": 11,
   "metadata": {},
   "outputs": [],
   "source": [
    "# your code here"
   ]
  },
  {
   "cell_type": "markdown",
   "metadata": {},
   "source": [
    "Use the `head()` function to inspect the dataframe."
   ]
  },
  {
   "cell_type": "code",
   "execution_count": 12,
   "metadata": {},
   "outputs": [],
   "source": [
    "# your code here"
   ]
  },
  {
   "cell_type": "markdown",
   "metadata": {},
   "source": [
    "Use the `value_counts()` function to find the most popular undergraduate major among all astronauts."
   ]
  },
  {
   "cell_type": "code",
   "execution_count": 13,
   "metadata": {},
   "outputs": [],
   "source": [
    "# your code here"
   ]
  },
  {
   "cell_type": "markdown",
   "metadata": {},
   "source": [
    "Due to all the commas present in the cells of this file, let's save it as a tab separated csv file. In the cell below, save `astronaut` as a **tab separated file** using the `to_csv` function. Call the file `astronaut.csv`. Remember to remove the index column and save the file in the `data` folder."
   ]
  },
  {
   "cell_type": "code",
   "execution_count": 14,
   "metadata": {},
   "outputs": [],
   "source": [
    "# your code here"
   ]
  },
  {
   "cell_type": "markdown",
   "metadata": {},
   "source": [
    "# Bonus Challenge - Fertility Dataset\n",
    "\n",
    "Visit the following [URL](https://archive.ics.uci.edu/ml/datasets/Fertility) and retrieve the dataset as well as the column headers. Determine the correct separator and read the file into a variable called `fertility`. Examine the dataframe using the `head()` function. \n",
    "\n",
    "Look in Google for a way to retrieve this data!"
   ]
  },
  {
   "cell_type": "code",
   "execution_count": 15,
   "metadata": {},
   "outputs": [],
   "source": [
    "# your code here"
   ]
  }
 ],
 "metadata": {
  "kernelspec": {
   "display_name": "Python [conda env:Ironhack_env]",
   "language": "python",
   "name": "conda-env-Ironhack_env-py"
  },
  "language_info": {
   "codemirror_mode": {
    "name": "ipython",
    "version": 3
   },
   "file_extension": ".py",
   "mimetype": "text/x-python",
   "name": "python",
   "nbconvert_exporter": "python",
   "pygments_lexer": "ipython3",
   "version": "3.7.7"
  }
 },
 "nbformat": 4,
 "nbformat_minor": 4
}
