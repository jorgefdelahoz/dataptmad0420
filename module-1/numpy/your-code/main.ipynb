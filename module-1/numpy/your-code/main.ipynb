{
 "cells": [
  {
   "cell_type": "markdown",
   "metadata": {},
   "source": [
    "# Introduction to NumPy\n",
    "\n",
    "\n",
    "#### 1. Import NumPy under the name np."
   ]
  },
  {
   "cell_type": "code",
   "execution_count": 1,
   "metadata": {},
   "outputs": [],
   "source": [
    "# your code here\n",
    "import numpy as np"
   ]
  },
  {
   "cell_type": "markdown",
   "metadata": {},
   "source": [
    "#### 2. Print your NumPy version."
   ]
  },
  {
   "cell_type": "code",
   "execution_count": 2,
   "metadata": {},
   "outputs": [
    {
     "data": {
      "text/plain": [
       "'1.18.1'"
      ]
     },
     "execution_count": 2,
     "metadata": {},
     "output_type": "execute_result"
    }
   ],
   "source": [
    "# your code here\n",
    "np.version.version"
   ]
  },
  {
   "cell_type": "markdown",
   "metadata": {},
   "source": [
    "#### 3. Generate a 2x3x5 3-dimensional array with random values. Assign the array to variable *a*.\n",
    "**Challenge**: there are at least three easy ways that use numpy to generate random arrays. How many ways can you find?"
   ]
  },
  {
   "cell_type": "code",
   "execution_count": 3,
   "metadata": {},
   "outputs": [],
   "source": [
    "# Method 1\n",
    "a = np.random.random((2,3,5))"
   ]
  },
  {
   "cell_type": "code",
   "execution_count": 4,
   "metadata": {},
   "outputs": [],
   "source": [
    "# Method 2\n",
    "a = np.random.randint(0,9,(2,3,5))"
   ]
  },
  {
   "cell_type": "code",
   "execution_count": 5,
   "metadata": {},
   "outputs": [],
   "source": [
    "# Method 3\n",
    "a = np.random.randn(2,3,5)"
   ]
  },
  {
   "cell_type": "markdown",
   "metadata": {},
   "source": [
    "#### 4. Print *a*.\n"
   ]
  },
  {
   "cell_type": "code",
   "execution_count": 6,
   "metadata": {},
   "outputs": [
    {
     "name": "stdout",
     "output_type": "stream",
     "text": [
      "[[[-1.03871077 -0.56552742 -0.25559267 -0.60957538  0.65156162]\n",
      "  [-0.34442638 -0.0622914   0.42615569  0.5953877   1.20786226]\n",
      "  [ 0.4065177   0.97045373  1.45924637  0.03568557 -0.40258214]]\n",
      "\n",
      " [[ 1.54863219 -1.5874578   0.43244932  1.62927463  0.86861343]\n",
      "  [-0.99097162  0.38886767  0.89716399 -0.73874324  0.48806038]\n",
      "  [ 2.73716919  1.9806301   1.30730263 -0.70052443  1.84349572]]]\n"
     ]
    }
   ],
   "source": [
    "# your copde here\n",
    "print(a)"
   ]
  },
  {
   "cell_type": "markdown",
   "metadata": {},
   "source": [
    "#### 5. Create a 5x2x3 3-dimensional array with all values equaling 1. Assign the array to variable *b*."
   ]
  },
  {
   "cell_type": "code",
   "execution_count": 7,
   "metadata": {},
   "outputs": [],
   "source": [
    "# your code here\n",
    "b = np.ones((5,2,3))"
   ]
  },
  {
   "cell_type": "markdown",
   "metadata": {},
   "source": [
    "#### 6. Print *b*.\n"
   ]
  },
  {
   "cell_type": "code",
   "execution_count": 8,
   "metadata": {},
   "outputs": [
    {
     "data": {
      "text/plain": [
       "array([[[1., 1., 1.],\n",
       "        [1., 1., 1.]],\n",
       "\n",
       "       [[1., 1., 1.],\n",
       "        [1., 1., 1.]],\n",
       "\n",
       "       [[1., 1., 1.],\n",
       "        [1., 1., 1.]],\n",
       "\n",
       "       [[1., 1., 1.],\n",
       "        [1., 1., 1.]],\n",
       "\n",
       "       [[1., 1., 1.],\n",
       "        [1., 1., 1.]]])"
      ]
     },
     "execution_count": 8,
     "metadata": {},
     "output_type": "execute_result"
    }
   ],
   "source": [
    "# your code here\n",
    "b"
   ]
  },
  {
   "cell_type": "markdown",
   "metadata": {},
   "source": [
    "#### 7. Do *a* and *b* have the same size? How do you prove that in Python code?"
   ]
  },
  {
   "cell_type": "code",
   "execution_count": 9,
   "metadata": {},
   "outputs": [
    {
     "name": "stdout",
     "output_type": "stream",
     "text": [
      "Size a = 30\n",
      "Size b = 30\n"
     ]
    },
    {
     "data": {
      "text/plain": [
       "'Both have the same size? True'"
      ]
     },
     "execution_count": 9,
     "metadata": {},
     "output_type": "execute_result"
    }
   ],
   "source": [
    "# your code here\n",
    "print(f\"Size a = {a.size}\")\n",
    "print(f\"Size b = {b.size}\")\n",
    "f\"Both have the same size? {a.size == b.size}\""
   ]
  },
  {
   "cell_type": "markdown",
   "metadata": {},
   "source": [
    "#### 8. Are you able to add *a* and *b*? Why or why not?\n"
   ]
  },
  {
   "cell_type": "code",
   "execution_count": 10,
   "metadata": {},
   "outputs": [],
   "source": [
    "# your answer here\n",
    "\n",
    "# a+b\n",
    "# np.add(a,b)\n",
    "\n",
    "#You cant sum both because have different dimensions"
   ]
  },
  {
   "cell_type": "markdown",
   "metadata": {},
   "source": [
    "#### 9. Transpose *b* so that it has the same structure of *a* (i.e. become a 2x3x5 array). Assign the transposed array to variable *c*."
   ]
  },
  {
   "cell_type": "code",
   "execution_count": 11,
   "metadata": {},
   "outputs": [],
   "source": [
    "# your code here\n",
    "c = b.transpose(1,2,0)"
   ]
  },
  {
   "cell_type": "markdown",
   "metadata": {},
   "source": [
    "#### 10. Try to add *a* and *c*. Now it should work. Assign the sum to variable *d*. But why does it work now?"
   ]
  },
  {
   "cell_type": "code",
   "execution_count": 12,
   "metadata": {},
   "outputs": [],
   "source": [
    "# your code/answer here\n",
    "d = np.add(a,c)\n",
    "\n",
    "# Because we'got the same shape."
   ]
  },
  {
   "cell_type": "markdown",
   "metadata": {},
   "source": [
    "#### 11. Print *a* and *d*. Notice the difference and relation of the two array in terms of the values? Explain."
   ]
  },
  {
   "cell_type": "code",
   "execution_count": 13,
   "metadata": {},
   "outputs": [
    {
     "name": "stdout",
     "output_type": "stream",
     "text": [
      "Shape a: (2, 3, 5) \n",
      "[[[-1.03871077 -0.56552742 -0.25559267 -0.60957538  0.65156162]\n",
      "  [-0.34442638 -0.0622914   0.42615569  0.5953877   1.20786226]\n",
      "  [ 0.4065177   0.97045373  1.45924637  0.03568557 -0.40258214]]\n",
      "\n",
      " [[ 1.54863219 -1.5874578   0.43244932  1.62927463  0.86861343]\n",
      "  [-0.99097162  0.38886767  0.89716399 -0.73874324  0.48806038]\n",
      "  [ 2.73716919  1.9806301   1.30730263 -0.70052443  1.84349572]]]\n",
      "\n",
      "Shape d: (2, 3, 5) \n",
      "[[[-0.03871077  0.43447258  0.74440733  0.39042462  1.65156162]\n",
      "  [ 0.65557362  0.9377086   1.42615569  1.5953877   2.20786226]\n",
      "  [ 1.4065177   1.97045373  2.45924637  1.03568557  0.59741786]]\n",
      "\n",
      " [[ 2.54863219 -0.5874578   1.43244932  2.62927463  1.86861343]\n",
      "  [ 0.00902838  1.38886767  1.89716399  0.26125676  1.48806038]\n",
      "  [ 3.73716919  2.9806301   2.30730263  0.29947557  2.84349572]]]\n"
     ]
    }
   ],
   "source": [
    "# your code/answer here\n",
    "\n",
    "print(f\"Shape a: {a.shape} \\n{a}\\n\")\n",
    "print(f\"Shape d: {d.shape} \\n{d}\")\n",
    "\n",
    "# Both have the same dimension (2x3x5) but different values"
   ]
  },
  {
   "cell_type": "markdown",
   "metadata": {},
   "source": [
    "#### 12. Multiply *a* and *c*. Assign the result to *e*."
   ]
  },
  {
   "cell_type": "code",
   "execution_count": 14,
   "metadata": {},
   "outputs": [],
   "source": [
    "# your code here\n",
    "\n",
    "e = np.multiply(a,c)\n",
    "# e = a * c"
   ]
  },
  {
   "cell_type": "markdown",
   "metadata": {},
   "source": [
    "#### 13. Does *e* equal to *a*? Why or why not?\n"
   ]
  },
  {
   "cell_type": "code",
   "execution_count": 15,
   "metadata": {},
   "outputs": [
    {
     "data": {
      "text/plain": [
       "array([[[ True,  True,  True,  True,  True],\n",
       "        [ True,  True,  True,  True,  True],\n",
       "        [ True,  True,  True,  True,  True]],\n",
       "\n",
       "       [[ True,  True,  True,  True,  True],\n",
       "        [ True,  True,  True,  True,  True],\n",
       "        [ True,  True,  True,  True,  True]]])"
      ]
     },
     "execution_count": 15,
     "metadata": {},
     "output_type": "execute_result"
    }
   ],
   "source": [
    "# your code/answer here\n",
    "\n",
    "e == a"
   ]
  },
  {
   "cell_type": "markdown",
   "metadata": {},
   "source": [
    "#### 14. Identify the max, min, and mean values in *d*. Assign those values to variables *d_max*, *d_min* and *d_mean*."
   ]
  },
  {
   "cell_type": "code",
   "execution_count": 16,
   "metadata": {},
   "outputs": [
    {
     "name": "stdout",
     "output_type": "stream",
     "text": [
      "3.737169187166859\n",
      "-0.5874578041354994\n",
      "1.4192708889413248\n"
     ]
    }
   ],
   "source": [
    "# your code here\n",
    "\n",
    "d_max = np.max(d)\n",
    "d_min = np.min(d)\n",
    "d_mean = np.mean(d)\n",
    "print(d_max)\n",
    "print(d_min)\n",
    "print(d_mean)"
   ]
  },
  {
   "cell_type": "markdown",
   "metadata": {},
   "source": [
    "#### 15. Now we want to label the values in *d*. First create an empty array *f* with the same shape (i.e. 2x3x5) as *d* using `np.empty`.\n"
   ]
  },
  {
   "cell_type": "code",
   "execution_count": 17,
   "metadata": {},
   "outputs": [
    {
     "name": "stdout",
     "output_type": "stream",
     "text": [
      "[[[-0.03871077  0.43447258  0.74440733  0.39042462  1.65156162]\n",
      "  [ 0.65557362  0.9377086   1.42615569  1.5953877   2.20786226]\n",
      "  [ 1.4065177   1.97045373  2.45924637  1.03568557  0.59741786]]\n",
      "\n",
      " [[ 2.54863219 -0.5874578   1.43244932  2.62927463  1.86861343]\n",
      "  [ 0.00902838  1.38886767  1.89716399  0.26125676  1.48806038]\n",
      "  [ 3.73716919  2.9806301   2.30730263  0.29947557  2.84349572]]]\n"
     ]
    }
   ],
   "source": [
    "# your code here\n",
    "\n",
    "f = np.empty((2,3,5))\n",
    "print(f)\n"
   ]
  },
  {
   "cell_type": "markdown",
   "metadata": {},
   "source": [
    "#### 16. Populate the values in *f*. \n",
    "\n",
    "For each value in *d*, if it's larger than *d_min* but smaller than *d_mean*, assign 25 to the corresponding value in *f*. If a value in *d* is larger than *d_mean* but smaller than *d_max*, assign 75 to the corresponding value in *f*. If a value equals to *d_mean*, assign 50 to the corresponding value in *f*. Assign 0 to the corresponding value(s) in *f* for *d_min* in *d*. Assign 100 to the corresponding value(s) in *f* for *d_max* in *d*. In the end, f should have only the following values: 0, 25, 50, 75, and 100.\n",
    "\n",
    "**Note**: you don't have to use Numpy in this question."
   ]
  },
  {
   "cell_type": "code",
   "execution_count": 24,
   "metadata": {},
   "outputs": [],
   "source": [
    "# your code here\n",
    "\n",
    "# cont_fila = 0\n",
    "# cont_col = 0\n",
    "# cont_dimension = 0\n",
    "\n",
    "# for dim in range(d.shape[0]):\n",
    "#     for raw in range(d.shape[1]):\n",
    "#         for cols in range(d.shape[2]):\n",
    "#             if d_mean > d[cont_dimension][cont_fila][cont_col] > d_min:\n",
    "#                 f[cont_dimension][cont_fila][cont_col] = 25\n",
    "#                 if cont_col < 5:\n",
    "#                     cont_col += 1\n",
    "#             elif d_max > d[cont_dimension][cont_fila][cont_col] > d_mean:\n",
    "#                 f[cont_dimension][cont_fila][cont_col] = 75\n",
    "#                 if cont_col < 5:\n",
    "#                     cont_col += 1\n",
    "#             elif d[cont_dimension][cont_fila][cont_col] == d_mean:\n",
    "#                 f[cont_dimension][cont_fila][cont_col] = 50\n",
    "#                 if cont_col < 5:\n",
    "#                     cont_col += 1\n",
    "#             elif d[cont_dimension][cont_fila][cont_col] == d_min:\n",
    "#                 f[cont_dimension][cont_fila][cont_col] = 0\n",
    "#                 if cont_col < 5:\n",
    "#                     cont_col += 1\n",
    "#             elif d[cont_dimension][cont_fila][cont_col] == d_max:\n",
    "#                 f[cont_dimension][cont_fila][cont_col] = 100\n",
    "#                 if cont_col < 5:\n",
    "#                     cont_col += 1\n",
    "#         if cont_fila < 3:\n",
    "#             cont_fila += 1\n",
    "#         cont_col = 0\n",
    "#     cont_fila = 0\n",
    "#     cont_col = 0\n",
    "#     cont_dimension += 1\n",
    "    \n",
    "# Other way using Numpy:\n",
    "f = [[[25 if d_mean > cols > d_min else 75 if d_max > cols > d_mean else 50 if cols == d_mean else 0 if cols == d_min\n",
    "       else 100 for cols in raw] for raw in dim] for dim in d]\n",
    "f=np.asarray(f)\n"
   ]
  },
  {
   "cell_type": "markdown",
   "metadata": {},
   "source": [
    "#### 17. Print *d* and *f*. Do you have your expected *f*?\n",
    "For instance, if your *d* is:\n",
    "```python\n",
    "[[[1.85836099, 1.67064465, 1.62576044, 1.40243961, 1.88454931],\n",
    "[1.75354326, 1.69403643, 1.36729252, 1.61415071, 1.12104981],\n",
    "[1.72201435, 1.1862918 , 1.87078449, 1.7726778 , 1.88180042]],\n",
    "[[1.44747908, 1.31673383, 1.02000951, 1.52218947, 1.97066381],\n",
    "[1.79129243, 1.74983003, 1.96028037, 1.85166831, 1.65450881],\n",
    "[1.18068344, 1.9587381 , 1.00656599, 1.93402165, 1.73514584]]]\n",
    "```\n",
    "Your *f* should be:\n",
    "```python\n",
    "[[[ 75.,  75.,  75.,  25.,  75.],\n",
    "[ 75.,  75.,  25.,  25.,  25.],\n",
    "[ 75.,  25.,  75.,  75.,  75.]],\n",
    "[[ 25.,  25.,  25.,  25., 100.],\n",
    "[ 75.,  75.,  75.,  75.,  75.],\n",
    "[ 25.,  75.,   0.,  75.,  75.]]]\n",
    "```"
   ]
  },
  {
   "cell_type": "code",
   "execution_count": 25,
   "metadata": {},
   "outputs": [
    {
     "name": "stdout",
     "output_type": "stream",
     "text": [
      "matrix d:\n",
      "[[[-0.03871077  0.43447258  0.74440733  0.39042462  1.65156162]\n",
      "  [ 0.65557362  0.9377086   1.42615569  1.5953877   2.20786226]\n",
      "  [ 1.4065177   1.97045373  2.45924637  1.03568557  0.59741786]]\n",
      "\n",
      " [[ 2.54863219 -0.5874578   1.43244932  2.62927463  1.86861343]\n",
      "  [ 0.00902838  1.38886767  1.89716399  0.26125676  1.48806038]\n",
      "  [ 3.73716919  2.9806301   2.30730263  0.29947557  2.84349572]]]\n",
      "\n",
      "matrix f:\n",
      "[[[ 25  25  25  25  75]\n",
      "  [ 25  25  75  75  75]\n",
      "  [ 25  75  75  25  25]]\n",
      "\n",
      " [[ 75   0  75  75  75]\n",
      "  [ 25  25  75  25  75]\n",
      "  [100  75  75  25  75]]]\n"
     ]
    }
   ],
   "source": [
    "# your code here\n",
    "print(f\"matrix d:\\n{d}\")\n",
    "print(f\"\\nmatrix f:\\n{f}\")"
   ]
  },
  {
   "cell_type": "markdown",
   "metadata": {},
   "source": [
    "#### 18. Bonus question: instead of using numbers (i.e. 0, 25, 50, 75, and 100), use string values  (\"A\", \"B\", \"C\", \"D\", and \"E\") to label the array elements. For the example above, the expected result is:\n",
    "\n",
    "```python\n",
    "[[[ 'D',  'D',  'D',  'B',  'D'],\n",
    "[ 'D',  'D',  'B',  'B',  'B'],\n",
    "[ 'D',  'B',  'D',  'D',  'D']],\n",
    "[[ 'B',  'B',  'B',  'B',  'E'],\n",
    "[ 'D',  'D',  'D',  'D',  'D'],\n",
    "[ 'B',  'D',   'A',  'D', 'D']]]\n",
    "```\n",
    "**Note**: you don't have to use Numpy in this question."
   ]
  },
  {
   "cell_type": "code",
   "execution_count": 28,
   "metadata": {},
   "outputs": [
    {
     "name": "stdout",
     "output_type": "stream",
     "text": [
      "Matrix f:\n",
      "[[[ 25  25  25  25  75]\n",
      "  [ 25  25  75  75  75]\n",
      "  [ 25  75  75  25  25]]\n",
      "\n",
      " [[ 75   0  75  75  75]\n",
      "  [ 25  25  75  25  75]\n",
      "  [100  75  75  25  75]]]\n",
      "\n",
      "Letters:\n",
      "[[['B' 'B' 'B' 'B' 'D']\n",
      "  ['B' 'B' 'D' 'D' 'D']\n",
      "  ['B' 'D' 'D' 'B' 'B']]\n",
      "\n",
      " [['D' 'A' 'D' 'D' 'D']\n",
      "  ['B' 'B' 'D' 'B' 'D']\n",
      "  ['E' 'D' 'D' 'B' 'D']]]\n"
     ]
    }
   ],
   "source": [
    "# your code here\n",
    "\n",
    "letters = [[['B' if d_mean > cols > d_min else 'D' if d_max > cols > d_mean else 'C' if cols == d_mean else 'A' if cols == d_min\n",
    "       else 'E' for cols in raw] for raw in dim] for dim in d]\n",
    "letters=np.asarray(letters)\n",
    "\n",
    "print(f\"Matrix f:\\n{f}\")\n",
    "print(f\"\\nLetters:\\n{letters}\")"
   ]
  }
 ],
 "metadata": {
  "kernelspec": {
   "display_name": "Python [conda env:Ironhack_env]",
   "language": "python",
   "name": "conda-env-Ironhack_env-py"
  },
  "language_info": {
   "codemirror_mode": {
    "name": "ipython",
    "version": 3
   },
   "file_extension": ".py",
   "mimetype": "text/x-python",
   "name": "python",
   "nbconvert_exporter": "python",
   "pygments_lexer": "ipython3",
   "version": "3.7.7"
  }
 },
 "nbformat": 4,
 "nbformat_minor": 4
}
